{
  "nbformat": 4,
  "nbformat_minor": 0,
  "metadata": {
    "colab": {
      "name": "technical-discussions.ipynb",
      "provenance": [],
      "authorship_tag": "ABX9TyP3VmbY6JMzsiykPn6EEWYr",
      "include_colab_link": true
    },
    "kernelspec": {
      "name": "python3",
      "display_name": "Python 3"
    },
    "language_info": {
      "name": "python"
    }
  },
  "cells": [
    {
      "cell_type": "markdown",
      "metadata": {
        "id": "view-in-github",
        "colab_type": "text"
      },
      "source": [
        "<a href=\"https://colab.research.google.com/github/vaMuchenje/technical-discussions/blob/main/technical_discussions.ipynb\" target=\"_parent\"><img src=\"https://colab.research.google.com/assets/colab-badge.svg\" alt=\"Open In Colab\"/></a>"
      ]
    },
    {
      "cell_type": "markdown",
      "metadata": {
        "id": "ypAdrZR57j6v"
      },
      "source": [
        "# Extract\n",
        "* step 1\n",
        "* step 2\n",
        "* step 3"
      ]
    },
    {
      "cell_type": "code",
      "metadata": {
        "colab": {
          "base_uri": "https://localhost:8080/",
          "height": 35
        },
        "id": "y64dhJjY7gww",
        "outputId": "b37aabec-7f05-4b78-e052-89303ef6842d"
      },
      "source": [
        "def hello():\n",
        "  return \"Hello, World!\"\n",
        "hello()"
      ],
      "execution_count": 1,
      "outputs": [
        {
          "output_type": "execute_result",
          "data": {
            "application/vnd.google.colaboratory.intrinsic+json": {
              "type": "string"
            },
            "text/plain": [
              "'Hello, World!'"
            ]
          },
          "metadata": {
            "tags": []
          },
          "execution_count": 1
        }
      ]
    },
    {
      "cell_type": "markdown",
      "metadata": {
        "id": "R6uMGcU574Pu"
      },
      "source": [
        "# Transform\n",
        "* step 1\n",
        "* step 2"
      ]
    },
    {
      "cell_type": "code",
      "metadata": {
        "colab": {
          "base_uri": "https://localhost:8080/"
        },
        "id": "f4dd3FC88EYI",
        "outputId": "b3cc1ea3-c449-41c2-9442-fd2b35ecf8ff"
      },
      "source": [
        "print(\"Do Transformation\")"
      ],
      "execution_count": 2,
      "outputs": [
        {
          "output_type": "stream",
          "text": [
            "Do Transformation\n"
          ],
          "name": "stdout"
        }
      ]
    },
    {
      "cell_type": "markdown",
      "metadata": {
        "id": "KUkNdwwo8MBP"
      },
      "source": [
        "# Load"
      ]
    }
  ]
}